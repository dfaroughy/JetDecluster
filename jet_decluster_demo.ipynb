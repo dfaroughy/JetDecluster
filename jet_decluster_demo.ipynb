{
 "cells": [
  {
   "cell_type": "code",
   "execution_count": 2,
   "metadata": {},
   "outputs": [],
   "source": [
    "import h5py \n",
    "import numpy as np \n",
    "import pyjet\n",
    "from pyjet import cluster,DTYPE_PTEPM,DTYPE_EP \n",
    "import pandas as pd\n",
    "from random import randrange,shuffle\n",
    "from timeit import default_timer as timer\n",
    "import os\n",
    "# from functions import *\n",
    "# from basic_functions import *\n",
    "import networkx as nx\n",
    "from networkx.drawing.nx_agraph import write_dot, graphviz_layout\n",
    "from scipy.linalg import block_diag\n"
   ]
  },
  {
   "cell_type": "code",
   "execution_count": null,
   "metadata": {},
   "outputs": [],
   "source": [
    "data=pd.read_hdf('../GraphNN/events_anomalydetection_tiny.h5')\n",
    "data"
   ]
  },
  {
   "cell_type": "code",
   "execution_count": null,
   "metadata": {},
   "outputs": [],
   "source": [
    "with cluster_events(data=data, R=1.0, ptmin=200.0, stop=10) as event:\n",
    "    for N, jets, truth in event:\n",
    "            \n",
    "        print(\"\\n{0: <5} {1: >9} {2: >10} {3: >8} {4: >12} {5: >9} {6: >10} {7: >14}\".format(\"event#\",\"truth\", \"jet#\", \"pT\", \"eta\", \"phi\", \"mass\", \"#constit.\"))\n",
    "        \n",
    "        for n, jet in enumerate(jets[:6]):\n",
    "            \n",
    "            print(\"{0: <5} {1: 10.3f} {2: 10.3f} {3: 10.3f} {4: 10.3f} {5: 10.3f} {6: 10.3f} {7: 10}\".format(N, truth, n + 1, jet.pt, jet.eta, jet.phi, jet.mass, len(jet)))\n"
   ]
  },
  {
   "cell_type": "code",
   "execution_count": null,
   "metadata": {},
   "outputs": [],
   "source": [
    "\n",
    "mJJ={'signal':[], 'background':[]}\n",
    "pT={'signal':[], 'background':[]}\n",
    "s=0 \n",
    "b=0\n",
    "\n",
    "with cluster_events(data=data, R=1.0, ptmin=20.0, stop=None) as event:\n",
    "    for N, jets, truth in event:\n",
    "                \n",
    "        if len(jets)>1: \n",
    "            \n",
    "            j1=jets[0]\n",
    "            j2=jets[1]\n",
    "            \n",
    "            if truth:\n",
    "                s+=1\n",
    "                mJJ['signal'].append( inv_M(j1,j2) )\n",
    "                pT['signal'].append(j1.pt)\n",
    "                \n",
    "            else:\n",
    "                b+=1\n",
    "                mJJ['background'].append(inv_M(j1,j2))\n",
    "                pT['background'].append(j1.pt)\n",
    "\n",
    "            \n",
    "print('#signal={}, #background={}'.format(s,b))\n",
    "                "
   ]
  },
  {
   "cell_type": "code",
   "execution_count": null,
   "metadata": {},
   "outputs": [],
   "source": [
    "# some very simple plots:\n",
    "\n",
    "fig = plt.figure(figsize=(10,5))\n",
    "\n",
    "ax = fig.add_subplot(1, 2, 1)\n",
    "n,b,p = plt.hist(mJJ['background'], bins=50, facecolor='r', alpha=0.2,label='background')\n",
    "plt.hist(mJJ['signal'], bins=b, facecolor='b', alpha=0.2,label='signal')\n",
    "ax.set_xlabel(r'$m_{JJ}$ [GeV]')\n",
    "ax.set_ylabel('Number of events')\n",
    "plt.legend(loc='upper right')\n",
    "\n",
    "ax = fig.add_subplot(1, 2, 2)\n",
    "n,b,p = plt.hist(pT['background'], bins=50, facecolor='r', alpha=0.2,label='background')\n",
    "plt.hist(pT['signal'], bins=b, facecolor='b', alpha=0.2,label='signal')\n",
    "ax.set_xlabel(r'$p_T$ [GeV]')\n",
    "ax.set_ylabel('Number of events')\n",
    "plt.legend(loc='upper right')     \n"
   ]
  },
  {
   "cell_type": "code",
   "execution_count": null,
   "metadata": {},
   "outputs": [],
   "source": []
  },
  {
   "cell_type": "code",
   "execution_count": null,
   "metadata": {},
   "outputs": [],
   "source": []
  },
  {
   "cell_type": "code",
   "execution_count": null,
   "metadata": {},
   "outputs": [],
   "source": []
  },
  {
   "cell_type": "code",
   "execution_count": null,
   "metadata": {},
   "outputs": [],
   "source": []
  },
  {
   "cell_type": "code",
   "execution_count": null,
   "metadata": {},
   "outputs": [],
   "source": []
  }
 ],
 "metadata": {
  "kernelspec": {
   "display_name": "Python 3",
   "language": "python",
   "name": "python3"
  },
  "language_info": {
   "codemirror_mode": {
    "name": "ipython",
    "version": 3
   },
   "file_extension": ".py",
   "mimetype": "text/x-python",
   "name": "python",
   "nbconvert_exporter": "python",
   "pygments_lexer": "ipython3",
   "version": "3.8.5"
  }
 },
 "nbformat": 4,
 "nbformat_minor": 4
}
